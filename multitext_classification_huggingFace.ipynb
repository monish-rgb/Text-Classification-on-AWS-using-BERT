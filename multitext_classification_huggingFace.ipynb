{
 "cells": [
  {
   "cell_type": "code",
   "execution_count": 1,
   "id": "2dbed459-15f6-4ac5-ac91-b91fc3fe4697",
   "metadata": {
    "execution": {
     "iopub.execute_input": "2025-07-16T17:20:07.185992Z",
     "iopub.status.busy": "2025-07-16T17:20:07.185464Z",
     "iopub.status.idle": "2025-07-16T17:20:08.925637Z",
     "shell.execute_reply": "2025-07-16T17:20:08.924821Z",
     "shell.execute_reply.started": "2025-07-16T17:20:07.185961Z"
    }
   },
   "outputs": [
    {
     "name": "stdout",
     "output_type": "stream",
     "text": [
      "Requirement already satisfied: transformers in /opt/conda/lib/python3.12/site-packages (4.52.4)\n",
      "Requirement already satisfied: filelock in /opt/conda/lib/python3.12/site-packages (from transformers) (3.18.0)\n",
      "Requirement already satisfied: huggingface-hub<1.0,>=0.30.0 in /opt/conda/lib/python3.12/site-packages (from transformers) (0.32.3)\n",
      "Requirement already satisfied: numpy>=1.17 in /opt/conda/lib/python3.12/site-packages (from transformers) (1.26.4)\n",
      "Requirement already satisfied: packaging>=20.0 in /opt/conda/lib/python3.12/site-packages (from transformers) (24.2)\n",
      "Requirement already satisfied: pyyaml>=5.1 in /opt/conda/lib/python3.12/site-packages (from transformers) (6.0.2)\n",
      "Requirement already satisfied: regex!=2019.12.17 in /opt/conda/lib/python3.12/site-packages (from transformers) (2024.11.6)\n",
      "Requirement already satisfied: requests in /opt/conda/lib/python3.12/site-packages (from transformers) (2.32.3)\n",
      "Requirement already satisfied: tokenizers<0.22,>=0.21 in /opt/conda/lib/python3.12/site-packages (from transformers) (0.21.1)\n",
      "Requirement already satisfied: safetensors>=0.4.3 in /opt/conda/lib/python3.12/site-packages (from transformers) (0.5.3)\n",
      "Requirement already satisfied: tqdm>=4.27 in /opt/conda/lib/python3.12/site-packages (from transformers) (4.67.1)\n",
      "Requirement already satisfied: fsspec>=2023.5.0 in /opt/conda/lib/python3.12/site-packages (from huggingface-hub<1.0,>=0.30.0->transformers) (2024.12.0)\n",
      "Requirement already satisfied: hf-xet<2.0.0,>=1.1.2 in /opt/conda/lib/python3.12/site-packages (from huggingface-hub<1.0,>=0.30.0->transformers) (1.1.2)\n",
      "Requirement already satisfied: typing-extensions>=3.7.4.3 in /opt/conda/lib/python3.12/site-packages (from huggingface-hub<1.0,>=0.30.0->transformers) (4.13.2)\n",
      "Requirement already satisfied: charset_normalizer<4,>=2 in /opt/conda/lib/python3.12/site-packages (from requests->transformers) (3.4.2)\n",
      "Requirement already satisfied: idna<4,>=2.5 in /opt/conda/lib/python3.12/site-packages (from requests->transformers) (3.10)\n",
      "Requirement already satisfied: urllib3<3,>=1.21.1 in /opt/conda/lib/python3.12/site-packages (from requests->transformers) (1.26.19)\n",
      "Requirement already satisfied: certifi>=2017.4.17 in /opt/conda/lib/python3.12/site-packages (from requests->transformers) (2025.4.26)\n"
     ]
    }
   ],
   "source": [
    "!pip install transformers"
   ]
  },
  {
   "cell_type": "code",
   "execution_count": 139,
   "id": "653157b2-adde-4c9f-91e2-3be8bc61070f",
   "metadata": {
    "execution": {
     "iopub.execute_input": "2025-07-16T23:49:31.441309Z",
     "iopub.status.busy": "2025-07-16T23:49:31.440577Z",
     "iopub.status.idle": "2025-07-16T23:49:33.338141Z",
     "shell.execute_reply": "2025-07-16T23:49:33.337321Z",
     "shell.execute_reply.started": "2025-07-16T23:49:31.441284Z"
    }
   },
   "outputs": [
    {
     "name": "stdout",
     "output_type": "stream",
     "text": [
      "Requirement already satisfied: sagemaker in /opt/conda/lib/python3.12/site-packages (2.248.1)\n",
      "Requirement already satisfied: attrs<26,>=24 in /opt/conda/lib/python3.12/site-packages (from sagemaker) (25.3.0)\n",
      "Requirement already satisfied: boto3<2.0,>=1.35.75 in /opt/conda/lib/python3.12/site-packages (from sagemaker) (1.37.1)\n",
      "Requirement already satisfied: cloudpickle>=2.2.1 in /opt/conda/lib/python3.12/site-packages (from sagemaker) (3.1.1)\n",
      "Requirement already satisfied: docker in /opt/conda/lib/python3.12/site-packages (from sagemaker) (7.1.0)\n",
      "Requirement already satisfied: fastapi in /opt/conda/lib/python3.12/site-packages (from sagemaker) (0.115.12)\n",
      "Requirement already satisfied: google-pasta in /opt/conda/lib/python3.12/site-packages (from sagemaker) (0.2.0)\n",
      "Requirement already satisfied: graphene<4,>=3 in /opt/conda/lib/python3.12/site-packages (from sagemaker) (3.4.3)\n",
      "Requirement already satisfied: importlib-metadata<7.0,>=1.4.0 in /opt/conda/lib/python3.12/site-packages (from sagemaker) (6.10.0)\n",
      "Requirement already satisfied: jsonschema in /opt/conda/lib/python3.12/site-packages (from sagemaker) (4.23.0)\n",
      "Requirement already satisfied: numpy==1.26.4 in /opt/conda/lib/python3.12/site-packages (from sagemaker) (1.26.4)\n",
      "Requirement already satisfied: omegaconf<3,>=2.2 in /opt/conda/lib/python3.12/site-packages (from sagemaker) (2.3.0)\n",
      "Requirement already satisfied: packaging<25,>=23.0 in /opt/conda/lib/python3.12/site-packages (from sagemaker) (24.2)\n",
      "Requirement already satisfied: pandas in /opt/conda/lib/python3.12/site-packages (from sagemaker) (2.2.3)\n",
      "Requirement already satisfied: pathos in /opt/conda/lib/python3.12/site-packages (from sagemaker) (0.3.4)\n",
      "Requirement already satisfied: platformdirs in /opt/conda/lib/python3.12/site-packages (from sagemaker) (4.3.8)\n",
      "Requirement already satisfied: protobuf<6.32,>=3.12 in /opt/conda/lib/python3.12/site-packages (from sagemaker) (5.28.3)\n",
      "Requirement already satisfied: psutil in /opt/conda/lib/python3.12/site-packages (from sagemaker) (5.9.8)\n",
      "Requirement already satisfied: pyyaml>=6.0.1 in /opt/conda/lib/python3.12/site-packages (from sagemaker) (6.0.2)\n",
      "Requirement already satisfied: requests in /opt/conda/lib/python3.12/site-packages (from sagemaker) (2.32.3)\n",
      "Requirement already satisfied: sagemaker-core<2.0.0,>=1.0.17 in /opt/conda/lib/python3.12/site-packages (from sagemaker) (1.0.35)\n",
      "Requirement already satisfied: schema in /opt/conda/lib/python3.12/site-packages (from sagemaker) (0.7.7)\n",
      "Requirement already satisfied: smdebug-rulesconfig==1.0.1 in /opt/conda/lib/python3.12/site-packages (from sagemaker) (1.0.1)\n",
      "Requirement already satisfied: tblib<4,>=1.7.0 in /opt/conda/lib/python3.12/site-packages (from sagemaker) (3.1.0)\n",
      "Requirement already satisfied: tqdm in /opt/conda/lib/python3.12/site-packages (from sagemaker) (4.67.1)\n",
      "Requirement already satisfied: urllib3<3.0.0,>=1.26.8 in /opt/conda/lib/python3.12/site-packages (from sagemaker) (1.26.19)\n",
      "Requirement already satisfied: uvicorn in /opt/conda/lib/python3.12/site-packages (from sagemaker) (0.34.2)\n",
      "Requirement already satisfied: botocore<1.38.0,>=1.37.1 in /opt/conda/lib/python3.12/site-packages (from boto3<2.0,>=1.35.75->sagemaker) (1.37.1)\n",
      "Requirement already satisfied: jmespath<2.0.0,>=0.7.1 in /opt/conda/lib/python3.12/site-packages (from boto3<2.0,>=1.35.75->sagemaker) (1.0.1)\n",
      "Requirement already satisfied: s3transfer<0.12.0,>=0.11.0 in /opt/conda/lib/python3.12/site-packages (from boto3<2.0,>=1.35.75->sagemaker) (0.11.3)\n",
      "Requirement already satisfied: python-dateutil<3.0.0,>=2.1 in /opt/conda/lib/python3.12/site-packages (from botocore<1.38.0,>=1.37.1->boto3<2.0,>=1.35.75->sagemaker) (2.9.0.post0)\n",
      "Requirement already satisfied: graphql-core<3.3,>=3.1 in /opt/conda/lib/python3.12/site-packages (from graphene<4,>=3->sagemaker) (3.2.6)\n",
      "Requirement already satisfied: graphql-relay<3.3,>=3.1 in /opt/conda/lib/python3.12/site-packages (from graphene<4,>=3->sagemaker) (3.2.0)\n",
      "Requirement already satisfied: typing-extensions<5,>=4.7.1 in /opt/conda/lib/python3.12/site-packages (from graphene<4,>=3->sagemaker) (4.13.2)\n",
      "Requirement already satisfied: zipp>=0.5 in /opt/conda/lib/python3.12/site-packages (from importlib-metadata<7.0,>=1.4.0->sagemaker) (3.22.0)\n",
      "Requirement already satisfied: antlr4-python3-runtime==4.9.* in /opt/conda/lib/python3.12/site-packages (from omegaconf<3,>=2.2->sagemaker) (4.9.3)\n",
      "Requirement already satisfied: six>=1.5 in /opt/conda/lib/python3.12/site-packages (from python-dateutil<3.0.0,>=2.1->botocore<1.38.0,>=1.37.1->boto3<2.0,>=1.35.75->sagemaker) (1.17.0)\n",
      "Requirement already satisfied: pydantic<3.0.0,>=2.0.0 in /opt/conda/lib/python3.12/site-packages (from sagemaker-core<2.0.0,>=1.0.17->sagemaker) (2.11.4)\n",
      "Requirement already satisfied: rich<15.0.0,>=14.0.0 in /opt/conda/lib/python3.12/site-packages (from sagemaker-core<2.0.0,>=1.0.17->sagemaker) (14.0.0)\n",
      "Requirement already satisfied: mock<5.0,>4.0 in /opt/conda/lib/python3.12/site-packages (from sagemaker-core<2.0.0,>=1.0.17->sagemaker) (4.0.3)\n",
      "Requirement already satisfied: jsonschema-specifications>=2023.03.6 in /opt/conda/lib/python3.12/site-packages (from jsonschema->sagemaker) (2025.4.1)\n",
      "Requirement already satisfied: referencing>=0.28.4 in /opt/conda/lib/python3.12/site-packages (from jsonschema->sagemaker) (0.36.2)\n",
      "Requirement already satisfied: rpds-py>=0.7.1 in /opt/conda/lib/python3.12/site-packages (from jsonschema->sagemaker) (0.25.1)\n",
      "Requirement already satisfied: annotated-types>=0.6.0 in /opt/conda/lib/python3.12/site-packages (from pydantic<3.0.0,>=2.0.0->sagemaker-core<2.0.0,>=1.0.17->sagemaker) (0.7.0)\n",
      "Requirement already satisfied: pydantic-core==2.33.2 in /opt/conda/lib/python3.12/site-packages (from pydantic<3.0.0,>=2.0.0->sagemaker-core<2.0.0,>=1.0.17->sagemaker) (2.33.2)\n",
      "Requirement already satisfied: typing-inspection>=0.4.0 in /opt/conda/lib/python3.12/site-packages (from pydantic<3.0.0,>=2.0.0->sagemaker-core<2.0.0,>=1.0.17->sagemaker) (0.4.1)\n",
      "Requirement already satisfied: markdown-it-py>=2.2.0 in /opt/conda/lib/python3.12/site-packages (from rich<15.0.0,>=14.0.0->sagemaker-core<2.0.0,>=1.0.17->sagemaker) (3.0.0)\n",
      "Requirement already satisfied: pygments<3.0.0,>=2.13.0 in /opt/conda/lib/python3.12/site-packages (from rich<15.0.0,>=14.0.0->sagemaker-core<2.0.0,>=1.0.17->sagemaker) (2.19.1)\n",
      "Requirement already satisfied: mdurl~=0.1 in /opt/conda/lib/python3.12/site-packages (from markdown-it-py>=2.2.0->rich<15.0.0,>=14.0.0->sagemaker-core<2.0.0,>=1.0.17->sagemaker) (0.1.2)\n",
      "Requirement already satisfied: charset_normalizer<4,>=2 in /opt/conda/lib/python3.12/site-packages (from requests->sagemaker) (3.4.2)\n",
      "Requirement already satisfied: idna<4,>=2.5 in /opt/conda/lib/python3.12/site-packages (from requests->sagemaker) (3.10)\n",
      "Requirement already satisfied: certifi>=2017.4.17 in /opt/conda/lib/python3.12/site-packages (from requests->sagemaker) (2025.4.26)\n",
      "Requirement already satisfied: starlette<0.47.0,>=0.40.0 in /opt/conda/lib/python3.12/site-packages (from fastapi->sagemaker) (0.46.2)\n",
      "Requirement already satisfied: anyio<5,>=3.6.2 in /opt/conda/lib/python3.12/site-packages (from starlette<0.47.0,>=0.40.0->fastapi->sagemaker) (4.9.0)\n",
      "Requirement already satisfied: sniffio>=1.1 in /opt/conda/lib/python3.12/site-packages (from anyio<5,>=3.6.2->starlette<0.47.0,>=0.40.0->fastapi->sagemaker) (1.3.1)\n",
      "Requirement already satisfied: pytz>=2020.1 in /opt/conda/lib/python3.12/site-packages (from pandas->sagemaker) (2024.2)\n",
      "Requirement already satisfied: tzdata>=2022.7 in /opt/conda/lib/python3.12/site-packages (from pandas->sagemaker) (2025.2)\n",
      "Requirement already satisfied: ppft>=1.7.7 in /opt/conda/lib/python3.12/site-packages (from pathos->sagemaker) (1.7.7)\n",
      "Requirement already satisfied: dill>=0.4.0 in /opt/conda/lib/python3.12/site-packages (from pathos->sagemaker) (0.4.0)\n",
      "Requirement already satisfied: pox>=0.3.6 in /opt/conda/lib/python3.12/site-packages (from pathos->sagemaker) (0.3.6)\n",
      "Requirement already satisfied: multiprocess>=0.70.18 in /opt/conda/lib/python3.12/site-packages (from pathos->sagemaker) (0.70.18)\n",
      "Requirement already satisfied: click>=7.0 in /opt/conda/lib/python3.12/site-packages (from uvicorn->sagemaker) (8.2.1)\n",
      "Requirement already satisfied: h11>=0.8 in /opt/conda/lib/python3.12/site-packages (from uvicorn->sagemaker) (0.16.0)\n"
     ]
    }
   ],
   "source": [
    "!pip install -U sagemaker"
   ]
  },
  {
   "cell_type": "code",
   "execution_count": 56,
   "id": "e3f2719a-083d-48a1-a5e7-d2dfb257c4b0",
   "metadata": {
    "execution": {
     "iopub.execute_input": "2025-07-16T19:41:38.564528Z",
     "iopub.status.busy": "2025-07-16T19:41:38.563824Z",
     "iopub.status.idle": "2025-07-16T19:41:38.853151Z",
     "shell.execute_reply": "2025-07-16T19:41:38.852507Z",
     "shell.execute_reply.started": "2025-07-16T19:41:38.564499Z"
    }
   },
   "outputs": [],
   "source": [
    "from sagemaker.session import Session\n",
    "import sagemaker, boto3, json\n",
    "from sagemaker import get_execution_role\n",
    "\n",
    "aws_role = get_execution_role()\n",
    "aws_region = boto3.Session().region_name\n",
    "sess = sagemaker.Session()\n",
    "sagemaker_session_bucket = sess.default_bucket()\n",
    "sess = sagemaker.Session(default_bucket=sagemaker_session_bucket)"
   ]
  },
  {
   "cell_type": "code",
   "execution_count": 57,
   "id": "29de46e3-1e60-4ec4-a680-a9d2da1e4558",
   "metadata": {
    "execution": {
     "iopub.execute_input": "2025-07-16T19:41:41.045871Z",
     "iopub.status.busy": "2025-07-16T19:41:41.045292Z",
     "iopub.status.idle": "2025-07-16T19:41:41.097537Z",
     "shell.execute_reply": "2025-07-16T19:41:41.096901Z",
     "shell.execute_reply.started": "2025-07-16T19:41:41.045846Z"
    }
   },
   "outputs": [
    {
     "name": "stdout",
     "output_type": "stream",
     "text": [
      "sagemaker-us-east-2-494725113354\n"
     ]
    }
   ],
   "source": [
    "print(sess.default_bucket())"
   ]
  },
  {
   "cell_type": "code",
   "execution_count": 58,
   "id": "a9c53a64-c7d3-4c1f-ac42-d9e935c6086e",
   "metadata": {
    "execution": {
     "iopub.execute_input": "2025-07-16T19:41:43.978593Z",
     "iopub.status.busy": "2025-07-16T19:41:43.977946Z",
     "iopub.status.idle": "2025-07-16T19:41:43.981576Z",
     "shell.execute_reply": "2025-07-16T19:41:43.980989Z",
     "shell.execute_reply.started": "2025-07-16T19:41:43.978568Z"
    }
   },
   "outputs": [
    {
     "name": "stdout",
     "output_type": "stream",
     "text": [
      "us-east-2\n"
     ]
    }
   ],
   "source": [
    "print(aws_region)"
   ]
  },
  {
   "cell_type": "code",
   "execution_count": null,
   "id": "58a9a4fb-b2c2-42e3-b76b-2931e95cf635",
   "metadata": {},
   "outputs": [],
   "source": []
  },
  {
   "cell_type": "code",
   "execution_count": 59,
   "id": "fc3c1239-ee02-44b6-ba41-de4369d9bbc6",
   "metadata": {
    "execution": {
     "iopub.execute_input": "2025-07-16T19:41:50.056322Z",
     "iopub.status.busy": "2025-07-16T19:41:50.055728Z",
     "iopub.status.idle": "2025-07-16T19:41:51.830180Z",
     "shell.execute_reply": "2025-07-16T19:41:51.829488Z",
     "shell.execute_reply.started": "2025-07-16T19:41:50.056295Z"
    }
   },
   "outputs": [
    {
     "data": {
      "text/html": [
       "<div>\n",
       "<style scoped>\n",
       "    .dataframe tbody tr th:only-of-type {\n",
       "        vertical-align: middle;\n",
       "    }\n",
       "\n",
       "    .dataframe tbody tr th {\n",
       "        vertical-align: top;\n",
       "    }\n",
       "\n",
       "    .dataframe thead th {\n",
       "        text-align: right;\n",
       "    }\n",
       "</style>\n",
       "<table border=\"1\" class=\"dataframe\">\n",
       "  <thead>\n",
       "    <tr style=\"text-align: right;\">\n",
       "      <th></th>\n",
       "      <th>ID</th>\n",
       "      <th>TITLE</th>\n",
       "      <th>URL</th>\n",
       "      <th>PUBLISHER</th>\n",
       "      <th>CATEGORY</th>\n",
       "      <th>STORY</th>\n",
       "      <th>HOSTNAME</th>\n",
       "      <th>TIMESTAMP</th>\n",
       "    </tr>\n",
       "  </thead>\n",
       "  <tbody>\n",
       "    <tr>\n",
       "      <th>0</th>\n",
       "      <td>1</td>\n",
       "      <td>Fed official says weak data caused by weather,...</td>\n",
       "      <td>http://www.latimes.com/business/money/la-fi-mo...</td>\n",
       "      <td>Los Angeles Times</td>\n",
       "      <td>b</td>\n",
       "      <td>ddUyU0VZz0BRneMioxUPQVP6sIxvM</td>\n",
       "      <td>www.latimes.com</td>\n",
       "      <td>1394470370698</td>\n",
       "    </tr>\n",
       "    <tr>\n",
       "      <th>1</th>\n",
       "      <td>2</td>\n",
       "      <td>Fed's Charles Plosser sees high bar for change...</td>\n",
       "      <td>http://www.livemint.com/Politics/H2EvwJSK2VE6O...</td>\n",
       "      <td>Livemint</td>\n",
       "      <td>b</td>\n",
       "      <td>ddUyU0VZz0BRneMioxUPQVP6sIxvM</td>\n",
       "      <td>www.livemint.com</td>\n",
       "      <td>1394470371207</td>\n",
       "    </tr>\n",
       "    <tr>\n",
       "      <th>2</th>\n",
       "      <td>3</td>\n",
       "      <td>US open: Stocks fall after Fed official hints ...</td>\n",
       "      <td>http://www.ifamagazine.com/news/us-open-stocks...</td>\n",
       "      <td>IFA Magazine</td>\n",
       "      <td>b</td>\n",
       "      <td>ddUyU0VZz0BRneMioxUPQVP6sIxvM</td>\n",
       "      <td>www.ifamagazine.com</td>\n",
       "      <td>1394470371550</td>\n",
       "    </tr>\n",
       "    <tr>\n",
       "      <th>3</th>\n",
       "      <td>4</td>\n",
       "      <td>Fed risks falling 'behind the curve', Charles ...</td>\n",
       "      <td>http://www.ifamagazine.com/news/fed-risks-fall...</td>\n",
       "      <td>IFA Magazine</td>\n",
       "      <td>b</td>\n",
       "      <td>ddUyU0VZz0BRneMioxUPQVP6sIxvM</td>\n",
       "      <td>www.ifamagazine.com</td>\n",
       "      <td>1394470371793</td>\n",
       "    </tr>\n",
       "    <tr>\n",
       "      <th>4</th>\n",
       "      <td>5</td>\n",
       "      <td>Fed's Plosser: Nasty Weather Has Curbed Job Gr...</td>\n",
       "      <td>http://www.moneynews.com/Economy/federal-reser...</td>\n",
       "      <td>Moneynews</td>\n",
       "      <td>b</td>\n",
       "      <td>ddUyU0VZz0BRneMioxUPQVP6sIxvM</td>\n",
       "      <td>www.moneynews.com</td>\n",
       "      <td>1394470372027</td>\n",
       "    </tr>\n",
       "  </tbody>\n",
       "</table>\n",
       "</div>"
      ],
      "text/plain": [
       "   ID                                              TITLE  \\\n",
       "0   1  Fed official says weak data caused by weather,...   \n",
       "1   2  Fed's Charles Plosser sees high bar for change...   \n",
       "2   3  US open: Stocks fall after Fed official hints ...   \n",
       "3   4  Fed risks falling 'behind the curve', Charles ...   \n",
       "4   5  Fed's Plosser: Nasty Weather Has Curbed Job Gr...   \n",
       "\n",
       "                                                 URL          PUBLISHER  \\\n",
       "0  http://www.latimes.com/business/money/la-fi-mo...  Los Angeles Times   \n",
       "1  http://www.livemint.com/Politics/H2EvwJSK2VE6O...           Livemint   \n",
       "2  http://www.ifamagazine.com/news/us-open-stocks...       IFA Magazine   \n",
       "3  http://www.ifamagazine.com/news/fed-risks-fall...       IFA Magazine   \n",
       "4  http://www.moneynews.com/Economy/federal-reser...          Moneynews   \n",
       "\n",
       "  CATEGORY                          STORY             HOSTNAME      TIMESTAMP  \n",
       "0        b  ddUyU0VZz0BRneMioxUPQVP6sIxvM      www.latimes.com  1394470370698  \n",
       "1        b  ddUyU0VZz0BRneMioxUPQVP6sIxvM     www.livemint.com  1394470371207  \n",
       "2        b  ddUyU0VZz0BRneMioxUPQVP6sIxvM  www.ifamagazine.com  1394470371550  \n",
       "3        b  ddUyU0VZz0BRneMioxUPQVP6sIxvM  www.ifamagazine.com  1394470371793  \n",
       "4        b  ddUyU0VZz0BRneMioxUPQVP6sIxvM    www.moneynews.com  1394470372027  "
      ]
     },
     "execution_count": 59,
     "metadata": {},
     "output_type": "execute_result"
    }
   ],
   "source": [
    "import pandas as pd\n",
    "import os\n",
    "import ast\n",
    "\n",
    "# conn = boto3.client(\"s3\")\n",
    "# s3_path = \"multiclass-text-classify\"\n",
    "# content=conn.list_objects(Bucket=s3_path)['Contents']\n",
    "\n",
    "# for data in content:\n",
    "#     dataset=data['Key']\n",
    "\n",
    "# print(dataset)\n",
    "# df = pd.read_csv(f\"s3://{s3_path}/{dataset}\", on_bad_lines='skip')\n",
    "# df.head(5)\n",
    "df = pd.read_csv(\"newsCorpora.csv\", sep='\\t',names=['ID','TITLE','URL','PUBLISHER','CATEGORY','STORY','HOSTNAME','TIMESTAMP'])\n",
    "df.head(5)"
   ]
  },
  {
   "cell_type": "code",
   "execution_count": 60,
   "id": "8975af59-c47f-40ca-b66e-e2d59b5f5551",
   "metadata": {
    "execution": {
     "iopub.execute_input": "2025-07-16T19:41:51.831593Z",
     "iopub.status.busy": "2025-07-16T19:41:51.831259Z",
     "iopub.status.idle": "2025-07-16T19:41:51.962191Z",
     "shell.execute_reply": "2025-07-16T19:41:51.961535Z",
     "shell.execute_reply.started": "2025-07-16T19:41:51.831562Z"
    }
   },
   "outputs": [
    {
     "name": "stdout",
     "output_type": "stream",
     "text": [
      "<class 'pandas.core.frame.DataFrame'>\n",
      "RangeIndex: 422419 entries, 0 to 422418\n",
      "Data columns (total 8 columns):\n",
      " #   Column     Non-Null Count   Dtype \n",
      "---  ------     --------------   ----- \n",
      " 0   ID         422419 non-null  int64 \n",
      " 1   TITLE      422419 non-null  object\n",
      " 2   URL        422419 non-null  object\n",
      " 3   PUBLISHER  422417 non-null  object\n",
      " 4   CATEGORY   422419 non-null  object\n",
      " 5   STORY      422419 non-null  object\n",
      " 6   HOSTNAME   422419 non-null  object\n",
      " 7   TIMESTAMP  422419 non-null  int64 \n",
      "dtypes: int64(2), object(6)\n",
      "memory usage: 25.8+ MB\n"
     ]
    }
   ],
   "source": [
    "df.info()"
   ]
  },
  {
   "cell_type": "code",
   "execution_count": 61,
   "id": "efb7aa1c-1929-4d1e-8089-0fa1467bbd54",
   "metadata": {
    "execution": {
     "iopub.execute_input": "2025-07-16T19:41:52.722052Z",
     "iopub.status.busy": "2025-07-16T19:41:52.721540Z",
     "iopub.status.idle": "2025-07-16T19:41:52.738877Z",
     "shell.execute_reply": "2025-07-16T19:41:52.738164Z",
     "shell.execute_reply.started": "2025-07-16T19:41:52.722028Z"
    }
   },
   "outputs": [
    {
     "data": {
      "text/html": [
       "<div>\n",
       "<style scoped>\n",
       "    .dataframe tbody tr th:only-of-type {\n",
       "        vertical-align: middle;\n",
       "    }\n",
       "\n",
       "    .dataframe tbody tr th {\n",
       "        vertical-align: top;\n",
       "    }\n",
       "\n",
       "    .dataframe thead th {\n",
       "        text-align: right;\n",
       "    }\n",
       "</style>\n",
       "<table border=\"1\" class=\"dataframe\">\n",
       "  <thead>\n",
       "    <tr style=\"text-align: right;\">\n",
       "      <th></th>\n",
       "      <th>TITLE</th>\n",
       "      <th>CATEGORY</th>\n",
       "    </tr>\n",
       "  </thead>\n",
       "  <tbody>\n",
       "    <tr>\n",
       "      <th>0</th>\n",
       "      <td>Fed official says weak data caused by weather,...</td>\n",
       "      <td>b</td>\n",
       "    </tr>\n",
       "    <tr>\n",
       "      <th>1</th>\n",
       "      <td>Fed's Charles Plosser sees high bar for change...</td>\n",
       "      <td>b</td>\n",
       "    </tr>\n",
       "    <tr>\n",
       "      <th>2</th>\n",
       "      <td>US open: Stocks fall after Fed official hints ...</td>\n",
       "      <td>b</td>\n",
       "    </tr>\n",
       "    <tr>\n",
       "      <th>3</th>\n",
       "      <td>Fed risks falling 'behind the curve', Charles ...</td>\n",
       "      <td>b</td>\n",
       "    </tr>\n",
       "    <tr>\n",
       "      <th>4</th>\n",
       "      <td>Fed's Plosser: Nasty Weather Has Curbed Job Gr...</td>\n",
       "      <td>b</td>\n",
       "    </tr>\n",
       "  </tbody>\n",
       "</table>\n",
       "</div>"
      ],
      "text/plain": [
       "                                               TITLE CATEGORY\n",
       "0  Fed official says weak data caused by weather,...        b\n",
       "1  Fed's Charles Plosser sees high bar for change...        b\n",
       "2  US open: Stocks fall after Fed official hints ...        b\n",
       "3  Fed risks falling 'behind the curve', Charles ...        b\n",
       "4  Fed's Plosser: Nasty Weather Has Curbed Job Gr...        b"
      ]
     },
     "execution_count": 61,
     "metadata": {},
     "output_type": "execute_result"
    }
   ],
   "source": [
    "df1=df[['TITLE','CATEGORY']]\n",
    "df1.head()"
   ]
  },
  {
   "cell_type": "code",
   "execution_count": 62,
   "id": "e888c56a-705b-4f9e-8e62-c6a47346545d",
   "metadata": {
    "execution": {
     "iopub.execute_input": "2025-07-16T19:41:54.001293Z",
     "iopub.status.busy": "2025-07-16T19:41:54.000993Z",
     "iopub.status.idle": "2025-07-16T19:41:54.004656Z",
     "shell.execute_reply": "2025-07-16T19:41:54.003900Z",
     "shell.execute_reply.started": "2025-07-16T19:41:54.001269Z"
    }
   },
   "outputs": [],
   "source": [
    "cat={\n",
    "    'e':'entertainment',\n",
    "    'b':'business',\n",
    "    't':'science',\n",
    "    'm':'health'\n",
    "}"
   ]
  },
  {
   "cell_type": "code",
   "execution_count": 63,
   "id": "3bb7f7c6-f7a2-401e-9425-2e58f90eb5de",
   "metadata": {
    "execution": {
     "iopub.execute_input": "2025-07-16T19:41:55.008942Z",
     "iopub.status.busy": "2025-07-16T19:41:55.008469Z",
     "iopub.status.idle": "2025-07-16T19:41:55.012037Z",
     "shell.execute_reply": "2025-07-16T19:41:55.011460Z",
     "shell.execute_reply.started": "2025-07-16T19:41:55.008917Z"
    }
   },
   "outputs": [],
   "source": [
    "def update_category(x):\n",
    "    return cat[x]"
   ]
  },
  {
   "cell_type": "code",
   "execution_count": 64,
   "id": "8cb696f5-f858-45c9-94af-e7eb7c6c4103",
   "metadata": {
    "execution": {
     "iopub.execute_input": "2025-07-16T19:41:55.635824Z",
     "iopub.status.busy": "2025-07-16T19:41:55.635531Z",
     "iopub.status.idle": "2025-07-16T19:41:55.721468Z",
     "shell.execute_reply": "2025-07-16T19:41:55.720823Z",
     "shell.execute_reply.started": "2025-07-16T19:41:55.635803Z"
    }
   },
   "outputs": [
    {
     "name": "stderr",
     "output_type": "stream",
     "text": [
      "/tmp/ipykernel_165/1265016023.py:1: SettingWithCopyWarning: \n",
      "A value is trying to be set on a copy of a slice from a DataFrame.\n",
      "Try using .loc[row_indexer,col_indexer] = value instead\n",
      "\n",
      "See the caveats in the documentation: https://pandas.pydata.org/pandas-docs/stable/user_guide/indexing.html#returning-a-view-versus-a-copy\n",
      "  df1['CATEGORY']=df1['CATEGORY'].apply(lambda x:update_category(x))\n"
     ]
    },
    {
     "data": {
      "text/html": [
       "<div>\n",
       "<style scoped>\n",
       "    .dataframe tbody tr th:only-of-type {\n",
       "        vertical-align: middle;\n",
       "    }\n",
       "\n",
       "    .dataframe tbody tr th {\n",
       "        vertical-align: top;\n",
       "    }\n",
       "\n",
       "    .dataframe thead th {\n",
       "        text-align: right;\n",
       "    }\n",
       "</style>\n",
       "<table border=\"1\" class=\"dataframe\">\n",
       "  <thead>\n",
       "    <tr style=\"text-align: right;\">\n",
       "      <th></th>\n",
       "      <th>TITLE</th>\n",
       "      <th>CATEGORY</th>\n",
       "    </tr>\n",
       "  </thead>\n",
       "  <tbody>\n",
       "    <tr>\n",
       "      <th>0</th>\n",
       "      <td>Fed official says weak data caused by weather,...</td>\n",
       "      <td>business</td>\n",
       "    </tr>\n",
       "    <tr>\n",
       "      <th>1</th>\n",
       "      <td>Fed's Charles Plosser sees high bar for change...</td>\n",
       "      <td>business</td>\n",
       "    </tr>\n",
       "    <tr>\n",
       "      <th>2</th>\n",
       "      <td>US open: Stocks fall after Fed official hints ...</td>\n",
       "      <td>business</td>\n",
       "    </tr>\n",
       "    <tr>\n",
       "      <th>3</th>\n",
       "      <td>Fed risks falling 'behind the curve', Charles ...</td>\n",
       "      <td>business</td>\n",
       "    </tr>\n",
       "    <tr>\n",
       "      <th>4</th>\n",
       "      <td>Fed's Plosser: Nasty Weather Has Curbed Job Gr...</td>\n",
       "      <td>business</td>\n",
       "    </tr>\n",
       "  </tbody>\n",
       "</table>\n",
       "</div>"
      ],
      "text/plain": [
       "                                               TITLE  CATEGORY\n",
       "0  Fed official says weak data caused by weather,...  business\n",
       "1  Fed's Charles Plosser sees high bar for change...  business\n",
       "2  US open: Stocks fall after Fed official hints ...  business\n",
       "3  Fed risks falling 'behind the curve', Charles ...  business\n",
       "4  Fed's Plosser: Nasty Weather Has Curbed Job Gr...  business"
      ]
     },
     "execution_count": 64,
     "metadata": {},
     "output_type": "execute_result"
    }
   ],
   "source": [
    "df1['CATEGORY']=df1['CATEGORY'].apply(lambda x:update_category(x))\n",
    "df1.head(5)"
   ]
  },
  {
   "cell_type": "code",
   "execution_count": 65,
   "id": "6b20d24c-8177-4d67-9732-ebf636c8faa3",
   "metadata": {
    "execution": {
     "iopub.execute_input": "2025-07-16T19:41:56.898615Z",
     "iopub.status.busy": "2025-07-16T19:41:56.898087Z",
     "iopub.status.idle": "2025-07-16T19:41:57.660188Z",
     "shell.execute_reply": "2025-07-16T19:41:57.659441Z",
     "shell.execute_reply.started": "2025-07-16T19:41:56.898586Z"
    }
   },
   "outputs": [
    {
     "data": {
      "image/png": "[encoded data removed]",
      "text/plain": [
       "<Figure size 1000x600 with 1 Axes>"
      ]
     },
     "metadata": {},
     "output_type": "display_data"
    }
   ],
   "source": [
    "import matplotlib.pyplot as plt\n",
    "import seaborn as sns\n",
    "\n",
    "plt.figure(figsize=(10,6))\n",
    "sns.countplot(data=df1,x='CATEGORY',order=df1['CATEGORY'].value_counts().index)\n",
    "plt.title(\"distribution of categories\")\n",
    "plt.xticks(rotation=45)\n",
    "plt.show()"
   ]
  },
  {
   "cell_type": "code",
   "execution_count": 66,
   "id": "4b1298a3-b108-45e8-8949-6f4b6414f7da",
   "metadata": {
    "execution": {
     "iopub.execute_input": "2025-07-16T19:41:57.661925Z",
     "iopub.status.busy": "2025-07-16T19:41:57.661438Z",
     "iopub.status.idle": "2025-07-16T19:41:57.767834Z",
     "shell.execute_reply": "2025-07-16T19:41:57.767167Z",
     "shell.execute_reply.started": "2025-07-16T19:41:57.661902Z"
    }
   },
   "outputs": [
    {
     "data": {
      "image/png": "[encoded data removed]",
      "text/plain": [
       "<Figure size 800x800 with 1 Axes>"
      ]
     },
     "metadata": {},
     "output_type": "display_data"
    }
   ],
   "source": [
    "cat_counts=df1['CATEGORY'].value_counts()\n",
    "plt.figure(figsize=(8,8))\n",
    "plt.pie(cat_counts,labels=cat_counts.index,autopct='%1.1f%%')\n",
    "plt.show()"
   ]
  },
  {
   "cell_type": "markdown",
   "id": "a3e4fe75-875d-43cc-b7e1-fd9f5c3d26d1",
   "metadata": {},
   "source": [
    "**Preprocessing dataset**"
   ]
  },
  {
   "cell_type": "code",
   "execution_count": 67,
   "id": "3c8635f8-89c9-4940-898b-df973ec13fbf",
   "metadata": {
    "execution": {
     "iopub.execute_input": "2025-07-16T19:41:59.780019Z",
     "iopub.status.busy": "2025-07-16T19:41:59.779294Z",
     "iopub.status.idle": "2025-07-16T19:41:59.783058Z",
     "shell.execute_reply": "2025-07-16T19:41:59.782515Z",
     "shell.execute_reply.started": "2025-07-16T19:41:59.779986Z"
    }
   },
   "outputs": [],
   "source": [
    "import torch\n",
    "from torch.utils.data import DataLoader, TensorDataset, random_split\n",
    "from transformers import DistilBertTokenizer, DistilBertModel\n",
    "from transformers import AutoTokenizer\n",
    "from tqdm import tqdm"
   ]
  },
  {
   "cell_type": "code",
   "execution_count": 68,
   "id": "90e4deab-973b-4b6c-b905-53c73cf0ba2d",
   "metadata": {
    "execution": {
     "iopub.execute_input": "2025-07-16T19:42:01.352441Z",
     "iopub.status.busy": "2025-07-16T19:42:01.351832Z",
     "iopub.status.idle": "2025-07-16T19:42:01.373099Z",
     "shell.execute_reply": "2025-07-16T19:42:01.372479Z",
     "shell.execute_reply.started": "2025-07-16T19:42:01.352409Z"
    }
   },
   "outputs": [],
   "source": [
    "df2=df1.sample(frac=0.05,random_state=1)#for testing models so, first take a fraction and then run on small data\n",
    "df2=df2.reset_index(drop=True)"
   ]
  },
  {
   "cell_type": "code",
   "execution_count": 69,
   "id": "6598ce01-a186-4533-b72d-f921a0918e0c",
   "metadata": {
    "execution": {
     "iopub.execute_input": "2025-07-16T19:42:02.050402Z",
     "iopub.status.busy": "2025-07-16T19:42:02.049739Z",
     "iopub.status.idle": "2025-07-16T19:42:02.060923Z",
     "shell.execute_reply": "2025-07-16T19:42:02.060203Z",
     "shell.execute_reply.started": "2025-07-16T19:42:02.050375Z"
    }
   },
   "outputs": [
    {
     "data": {
      "text/plain": [
       "TITLE       21121\n",
       "CATEGORY    21121\n",
       "dtype: int64"
      ]
     },
     "execution_count": 69,
     "metadata": {},
     "output_type": "execute_result"
    }
   ],
   "source": [
    "#just a fraction\n",
    "df2.count()"
   ]
  },
  {
   "cell_type": "code",
   "execution_count": 70,
   "id": "a5baa866-5ea7-40ce-ae21-944dbf8bcbb9",
   "metadata": {
    "execution": {
     "iopub.execute_input": "2025-07-16T19:42:04.471042Z",
     "iopub.status.busy": "2025-07-16T19:42:04.470651Z",
     "iopub.status.idle": "2025-07-16T19:42:04.478151Z",
     "shell.execute_reply": "2025-07-16T19:42:04.477439Z",
     "shell.execute_reply.started": "2025-07-16T19:42:04.471015Z"
    }
   },
   "outputs": [
    {
     "data": {
      "text/html": [
       "<div>\n",
       "<style scoped>\n",
       "    .dataframe tbody tr th:only-of-type {\n",
       "        vertical-align: middle;\n",
       "    }\n",
       "\n",
       "    .dataframe tbody tr th {\n",
       "        vertical-align: top;\n",
       "    }\n",
       "\n",
       "    .dataframe thead th {\n",
       "        text-align: right;\n",
       "    }\n",
       "</style>\n",
       "<table border=\"1\" class=\"dataframe\">\n",
       "  <thead>\n",
       "    <tr style=\"text-align: right;\">\n",
       "      <th></th>\n",
       "      <th>TITLE</th>\n",
       "      <th>CATEGORY</th>\n",
       "    </tr>\n",
       "  </thead>\n",
       "  <tbody>\n",
       "    <tr>\n",
       "      <th>0</th>\n",
       "      <td>Murdoch's bid for Time Warner rejected</td>\n",
       "      <td>business</td>\n",
       "    </tr>\n",
       "    <tr>\n",
       "      <th>1</th>\n",
       "      <td>Rescuers close in on 3 trapped Honduran miners...</td>\n",
       "      <td>business</td>\n",
       "    </tr>\n",
       "    <tr>\n",
       "      <th>2</th>\n",
       "      <td>Johnny Depp - Johnny Depp Served With Legal Pa...</td>\n",
       "      <td>entertainment</td>\n",
       "    </tr>\n",
       "    <tr>\n",
       "      <th>3</th>\n",
       "      <td>Apple prepping move into \"smart home\" connecti...</td>\n",
       "      <td>science</td>\n",
       "    </tr>\n",
       "    <tr>\n",
       "      <th>4</th>\n",
       "      <td>Ripped First Look: Dwayne Johnson as Brett Rat...</td>\n",
       "      <td>entertainment</td>\n",
       "    </tr>\n",
       "  </tbody>\n",
       "</table>\n",
       "</div>"
      ],
      "text/plain": [
       "                                               TITLE       CATEGORY\n",
       "0             Murdoch's bid for Time Warner rejected       business\n",
       "1  Rescuers close in on 3 trapped Honduran miners...       business\n",
       "2  Johnny Depp - Johnny Depp Served With Legal Pa...  entertainment\n",
       "3  Apple prepping move into \"smart home\" connecti...        science\n",
       "4  Ripped First Look: Dwayne Johnson as Brett Rat...  entertainment"
      ]
     },
     "execution_count": 70,
     "metadata": {},
     "output_type": "execute_result"
    }
   ],
   "source": [
    "df2.head()"
   ]
  },
  {
   "cell_type": "code",
   "execution_count": 71,
   "id": "54310628-35b7-4317-8d3d-2b71e8f70905",
   "metadata": {
    "execution": {
     "iopub.execute_input": "2025-07-16T19:42:05.972862Z",
     "iopub.status.busy": "2025-07-16T19:42:05.972091Z",
     "iopub.status.idle": "2025-07-16T19:42:05.976029Z",
     "shell.execute_reply": "2025-07-16T19:42:05.975443Z",
     "shell.execute_reply.started": "2025-07-16T19:42:05.972830Z"
    }
   },
   "outputs": [],
   "source": [
    "label_encode={}\n",
    "def encode(x):\n",
    "   if x not in label_encode.keys():\n",
    "       label_encode[x]=len(label_encode)\n",
    "   return label_encode[x]"
   ]
  },
  {
   "cell_type": "code",
   "execution_count": 72,
   "id": "1756b74c-7173-4266-a9da-1a4619325e6a",
   "metadata": {
    "execution": {
     "iopub.execute_input": "2025-07-16T19:42:07.814656Z",
     "iopub.status.busy": "2025-07-16T19:42:07.814144Z",
     "iopub.status.idle": "2025-07-16T19:42:07.831595Z",
     "shell.execute_reply": "2025-07-16T19:42:07.830984Z",
     "shell.execute_reply.started": "2025-07-16T19:42:07.814623Z"
    }
   },
   "outputs": [
    {
     "data": {
      "text/html": [
       "<div>\n",
       "<style scoped>\n",
       "    .dataframe tbody tr th:only-of-type {\n",
       "        vertical-align: middle;\n",
       "    }\n",
       "\n",
       "    .dataframe tbody tr th {\n",
       "        vertical-align: top;\n",
       "    }\n",
       "\n",
       "    .dataframe thead th {\n",
       "        text-align: right;\n",
       "    }\n",
       "</style>\n",
       "<table border=\"1\" class=\"dataframe\">\n",
       "  <thead>\n",
       "    <tr style=\"text-align: right;\">\n",
       "      <th></th>\n",
       "      <th>TITLE</th>\n",
       "      <th>CATEGORY</th>\n",
       "      <th>labels</th>\n",
       "    </tr>\n",
       "  </thead>\n",
       "  <tbody>\n",
       "    <tr>\n",
       "      <th>0</th>\n",
       "      <td>Murdoch's bid for Time Warner rejected</td>\n",
       "      <td>business</td>\n",
       "      <td>0</td>\n",
       "    </tr>\n",
       "    <tr>\n",
       "      <th>1</th>\n",
       "      <td>Rescuers close in on 3 trapped Honduran miners...</td>\n",
       "      <td>business</td>\n",
       "      <td>0</td>\n",
       "    </tr>\n",
       "    <tr>\n",
       "      <th>2</th>\n",
       "      <td>Johnny Depp - Johnny Depp Served With Legal Pa...</td>\n",
       "      <td>entertainment</td>\n",
       "      <td>1</td>\n",
       "    </tr>\n",
       "    <tr>\n",
       "      <th>3</th>\n",
       "      <td>Apple prepping move into \"smart home\" connecti...</td>\n",
       "      <td>science</td>\n",
       "      <td>2</td>\n",
       "    </tr>\n",
       "    <tr>\n",
       "      <th>4</th>\n",
       "      <td>Ripped First Look: Dwayne Johnson as Brett Rat...</td>\n",
       "      <td>entertainment</td>\n",
       "      <td>1</td>\n",
       "    </tr>\n",
       "  </tbody>\n",
       "</table>\n",
       "</div>"
      ],
      "text/plain": [
       "                                               TITLE       CATEGORY  labels\n",
       "0             Murdoch's bid for Time Warner rejected       business       0\n",
       "1  Rescuers close in on 3 trapped Honduran miners...       business       0\n",
       "2  Johnny Depp - Johnny Depp Served With Legal Pa...  entertainment       1\n",
       "3  Apple prepping move into \"smart home\" connecti...        science       2\n",
       "4  Ripped First Look: Dwayne Johnson as Brett Rat...  entertainment       1"
      ]
     },
     "execution_count": 72,
     "metadata": {},
     "output_type": "execute_result"
    }
   ],
   "source": [
    "df2['labels']=df2['CATEGORY'].apply(lambda x:encode(x))\n",
    "df2.head(5)"
   ]
  },
  {
   "cell_type": "code",
   "execution_count": 73,
   "id": "ffe2342f-d60a-4740-9453-1c7266789334",
   "metadata": {
    "execution": {
     "iopub.execute_input": "2025-07-16T19:42:10.596897Z",
     "iopub.status.busy": "2025-07-16T19:42:10.596161Z",
     "iopub.status.idle": "2025-07-16T19:42:10.601349Z",
     "shell.execute_reply": "2025-07-16T19:42:10.600689Z",
     "shell.execute_reply.started": "2025-07-16T19:42:10.596868Z"
    }
   },
   "outputs": [],
   "source": [
    "X = df2['TITLE'].tolist()\n",
    "y = df2['labels'].tolist()"
   ]
  },
  {
   "cell_type": "code",
   "execution_count": 75,
   "id": "7734936a-ed82-499c-ba28-32bb01c45608",
   "metadata": {
    "execution": {
     "iopub.execute_input": "2025-07-16T19:43:00.927304Z",
     "iopub.status.busy": "2025-07-16T19:43:00.926677Z",
     "iopub.status.idle": "2025-07-16T19:43:01.070699Z",
     "shell.execute_reply": "2025-07-16T19:43:01.070068Z",
     "shell.execute_reply.started": "2025-07-16T19:43:00.927278Z"
    }
   },
   "outputs": [],
   "source": [
    "tokenizer_name='distilbert-base-uncased'\n",
    "tokenizer = DistilBertTokenizer.from_pretrained('distilbert-base-uncased')"
   ]
  },
  {
   "cell_type": "code",
   "execution_count": 76,
   "id": "a00eacd9-1db8-4305-9812-587dfb20d7a0",
   "metadata": {
    "execution": {
     "iopub.execute_input": "2025-07-16T19:43:24.031980Z",
     "iopub.status.busy": "2025-07-16T19:43:24.031233Z",
     "iopub.status.idle": "2025-07-16T19:43:29.140380Z",
     "shell.execute_reply": "2025-07-16T19:43:29.139622Z",
     "shell.execute_reply.started": "2025-07-16T19:43:24.031950Z"
    }
   },
   "outputs": [],
   "source": [
    "# 'inputs' is now a dictionary containing 'input_ids' and 'attention_mask'\n",
    "inputs=tokenizer(\n",
    "    X,\n",
    "    max_length=20,\n",
    "    padding='max_length',\n",
    "    truncation=True,\n",
    "    return_tensors=\"pt\"\n",
    ")"
   ]
  },
  {
   "cell_type": "code",
   "execution_count": 77,
   "id": "51b8a111-d315-414a-bbaa-da006fa3568d",
   "metadata": {
    "execution": {
     "iopub.execute_input": "2025-07-16T19:43:32.104306Z",
     "iopub.status.busy": "2025-07-16T19:43:32.103725Z",
     "iopub.status.idle": "2025-07-16T19:43:32.110594Z",
     "shell.execute_reply": "2025-07-16T19:43:32.109867Z",
     "shell.execute_reply.started": "2025-07-16T19:43:32.104280Z"
    }
   },
   "outputs": [],
   "source": [
    "# Convert labels to a tensor\n",
    "labels = torch.tensor(y)"
   ]
  },
  {
   "cell_type": "code",
   "execution_count": 78,
   "id": "77e7d5d3-3d2b-42f3-a3a2-10a2a506edac",
   "metadata": {
    "execution": {
     "iopub.execute_input": "2025-07-16T19:43:35.255665Z",
     "iopub.status.busy": "2025-07-16T19:43:35.255035Z",
     "iopub.status.idle": "2025-07-16T19:43:35.258638Z",
     "shell.execute_reply": "2025-07-16T19:43:35.258086Z",
     "shell.execute_reply.started": "2025-07-16T19:43:35.255635Z"
    }
   },
   "outputs": [],
   "source": [
    "# Create a dataset from the tokenized inputs and labels\n",
    "dataset_final = TensorDataset(inputs['input_ids'], inputs['attention_mask'], labels)"
   ]
  },
  {
   "cell_type": "code",
   "execution_count": 79,
   "id": "53a890d5-202a-4036-9628-e92bb34ed4ab",
   "metadata": {
    "execution": {
     "iopub.execute_input": "2025-07-16T19:43:39.259635Z",
     "iopub.status.busy": "2025-07-16T19:43:39.258849Z",
     "iopub.status.idle": "2025-07-16T19:43:39.262661Z",
     "shell.execute_reply": "2025-07-16T19:43:39.262040Z",
     "shell.execute_reply.started": "2025-07-16T19:43:39.259601Z"
    }
   },
   "outputs": [],
   "source": [
    "# Split the dataset into training and validation sets (e.g., 80/20 split)\n",
    "train_size = int(0.7 * len(dataset_final))"
   ]
  },
  {
   "cell_type": "code",
   "execution_count": 80,
   "id": "0115f3dc-7e9e-4336-b3d6-1d41cb4161d2",
   "metadata": {
    "execution": {
     "iopub.execute_input": "2025-07-16T19:43:40.444109Z",
     "iopub.status.busy": "2025-07-16T19:43:40.443487Z",
     "iopub.status.idle": "2025-07-16T19:43:40.448709Z",
     "shell.execute_reply": "2025-07-16T19:43:40.448076Z",
     "shell.execute_reply.started": "2025-07-16T19:43:40.444082Z"
    }
   },
   "outputs": [],
   "source": [
    "val_size = len(dataset_final) - train_size\n",
    "train_dataset, val_dataset = random_split(dataset_final, [train_size, val_size])\n",
    "\n",
    "# Create DataLoaders\n",
    "batch_size = 16\n",
    "train_dataloader = DataLoader(train_dataset, batch_size=batch_size, shuffle=True)\n",
    "val_dataloader = DataLoader(val_dataset, batch_size=batch_size)"
   ]
  },
  {
   "cell_type": "code",
   "execution_count": 81,
   "id": "71198152-cd85-4642-a0bd-0ebcf4224d61",
   "metadata": {
    "execution": {
     "iopub.execute_input": "2025-07-16T19:43:41.386301Z",
     "iopub.status.busy": "2025-07-16T19:43:41.385774Z",
     "iopub.status.idle": "2025-07-16T19:43:41.389892Z",
     "shell.execute_reply": "2025-07-16T19:43:41.389258Z",
     "shell.execute_reply.started": "2025-07-16T19:43:41.386274Z"
    }
   },
   "outputs": [
    {
     "name": "stdout",
     "output_type": "stream",
     "text": [
      "14784\n",
      "6337\n"
     ]
    }
   ],
   "source": [
    "print(train_size)\n",
    "print(val_size)"
   ]
  },
  {
   "cell_type": "markdown",
   "id": "c8a221d8-01c0-4ff6-a391-1acfb18ce269",
   "metadata": {},
   "source": [
    "**Saving the preprocessed dataset into session bucket**"
   ]
  },
  {
   "cell_type": "code",
   "execution_count": 82,
   "id": "4be2d683-df31-4f1d-8842-f65138534ee7",
   "metadata": {
    "execution": {
     "iopub.execute_input": "2025-07-16T19:45:07.666956Z",
     "iopub.status.busy": "2025-07-16T19:45:07.666333Z",
     "iopub.status.idle": "2025-07-16T19:45:07.828847Z",
     "shell.execute_reply": "2025-07-16T19:45:07.828188Z",
     "shell.execute_reply.started": "2025-07-16T19:45:07.666929Z"
    }
   },
   "outputs": [
    {
     "name": "stdout",
     "output_type": "stream",
     "text": [
      "File uploaded to s3://sagemaker-us-east-2-494725113354/preprocessed_data/train.pth\n"
     ]
    }
   ],
   "source": [
    "# 1. Save the model to a local temporary file\n",
    "local_train_path = 'train.pth'\n",
    "torch.save(train_dataloader, local_train_path)\n",
    "\n",
    "# 2. Upload the file to S3 using boto3\n",
    "s3 = boto3.client('s3')\n",
    "bucket_name = sess.default_bucket()\n",
    "s3_key = 'preprocessed_data/train.pth' # The path within your bucket\n",
    "\n",
    "s3.upload_file(local_train_path, bucket_name, s3_key)\n",
    "\n",
    "print(f\"File uploaded to s3://{bucket_name}/{s3_key}\")"
   ]
  },
  {
   "cell_type": "code",
   "execution_count": 83,
   "id": "ef24e8eb-4179-4155-b4e7-2cf7a141389b",
   "metadata": {
    "execution": {
     "iopub.execute_input": "2025-07-16T19:47:47.153748Z",
     "iopub.status.busy": "2025-07-16T19:47:47.153226Z",
     "iopub.status.idle": "2025-07-16T19:47:47.294584Z",
     "shell.execute_reply": "2025-07-16T19:47:47.293887Z",
     "shell.execute_reply.started": "2025-07-16T19:47:47.153722Z"
    }
   },
   "outputs": [
    {
     "name": "stdout",
     "output_type": "stream",
     "text": [
      "File uploaded to s3://sagemaker-us-east-2-494725113354/preprocessed_data/test.pth\n"
     ]
    }
   ],
   "source": [
    "# 1. Save the model to a local temporary file\n",
    "local_test_path = 'test.pth'\n",
    "torch.save(val_dataloader, local_test_path)\n",
    "\n",
    "# 2. Upload the file to S3 using boto3\n",
    "s3 = boto3.client('s3')\n",
    "bucket_name = sess.default_bucket()\n",
    "s3_key = 'preprocessed_data/test.pth' # The path within your bucket\n",
    "\n",
    "s3.upload_file(local_test_path, bucket_name, s3_key)\n",
    "\n",
    "print(f\"File uploaded to s3://{bucket_name}/{s3_key}\")"
   ]
  },
  {
   "cell_type": "markdown",
   "id": "89e1eaa9-679b-41a6-86b1-956b39c38d1b",
   "metadata": {},
   "source": [
    "**Training Job**"
   ]
  },
  {
   "cell_type": "code",
   "execution_count": 84,
   "id": "08dd4d46-7c2b-447e-a89c-f42ea561ad84",
   "metadata": {
    "execution": {
     "iopub.execute_input": "2025-07-16T19:49:03.913804Z",
     "iopub.status.busy": "2025-07-16T19:49:03.913417Z",
     "iopub.status.idle": "2025-07-16T19:49:03.917970Z",
     "shell.execute_reply": "2025-07-16T19:49:03.917402Z",
     "shell.execute_reply.started": "2025-07-16T19:49:03.913779Z"
    }
   },
   "outputs": [
    {
     "data": {
      "text/plain": [
       "'arn:aws:iam::494725113354:role/service-role/AmazonSageMaker-ExecutionRole-20250715T153149'"
      ]
     },
     "execution_count": 84,
     "metadata": {},
     "output_type": "execute_result"
    }
   ],
   "source": [
    "aws_role"
   ]
  },
  {
   "cell_type": "code",
   "execution_count": 85,
   "id": "e4fbeb87-5abb-4dd0-a4b3-e75f394a8ae8",
   "metadata": {
    "execution": {
     "iopub.execute_input": "2025-07-16T20:00:56.671572Z",
     "iopub.status.busy": "2025-07-16T20:00:56.671046Z",
     "iopub.status.idle": "2025-07-16T20:00:58.281846Z",
     "shell.execute_reply": "2025-07-16T20:00:58.281119Z",
     "shell.execute_reply.started": "2025-07-16T20:00:56.671548Z"
    }
   },
   "outputs": [
    {
     "name": "stdout",
     "output_type": "stream",
     "text": [
      "Name: transformers\n",
      "Version: 4.52.4\n",
      "Summary: State-of-the-art Machine Learning for JAX, PyTorch and TensorFlow\n",
      "Home-page: https://github.com/huggingface/transformers\n",
      "Author: The Hugging Face team (past and future) with the help of all our contributors (https://github.com/huggingface/transformers/graphs/contributors)\n",
      "Author-email: transformers@huggingface.co\n",
      "License: Apache 2.0 License\n",
      "Location: /opt/conda/lib/python3.12/site-packages\n",
      "Requires: filelock, huggingface-hub, numpy, packaging, pyyaml, regex, requests, safetensors, tokenizers, tqdm\n",
      "Required-by: amazon_sagemaker_jupyter_ai_q_developer, autogluon.multimodal, autogluon.timeseries\n",
      "Note: you may need to restart the kernel to use updated packages.\n"
     ]
    }
   ],
   "source": [
    "pip show transformers"
   ]
  },
  {
   "cell_type": "code",
   "execution_count": 86,
   "id": "3036f9f6-6fed-4b00-8418-a417223aee6d",
   "metadata": {
    "execution": {
     "iopub.execute_input": "2025-07-16T20:01:02.010841Z",
     "iopub.status.busy": "2025-07-16T20:01:02.010248Z",
     "iopub.status.idle": "2025-07-16T20:01:03.347672Z",
     "shell.execute_reply": "2025-07-16T20:01:03.346933Z",
     "shell.execute_reply.started": "2025-07-16T20:01:02.010808Z"
    }
   },
   "outputs": [
    {
     "name": "stdout",
     "output_type": "stream",
     "text": [
      "Name: torch\n",
      "Version: 2.6.0\n",
      "Summary: Tensors and Dynamic neural networks in Python with strong GPU acceleration\n",
      "Home-page: https://pytorch.org/\n",
      "Author: PyTorch Team\n",
      "Author-email: packages@pytorch.org\n",
      "License: BSD-3-Clause\n",
      "Location: /opt/conda/lib/python3.12/site-packages\n",
      "Requires: filelock, fsspec, jinja2, networkx, setuptools, sympy, typing-extensions\n",
      "Required-by: accelerate, autogluon.multimodal, autogluon.timeseries, fastai, lightning, pytorch-lightning, pytorch-metric-learning, timm, torchmetrics, torchvision\n",
      "Note: you may need to restart the kernel to use updated packages.\n"
     ]
    }
   ],
   "source": [
    "pip show torch"
   ]
  },
  {
   "cell_type": "code",
   "execution_count": 87,
   "id": "fa538e17-267a-43ba-8395-94ee1df0c67d",
   "metadata": {
    "execution": {
     "iopub.execute_input": "2025-07-16T20:01:05.973302Z",
     "iopub.status.busy": "2025-07-16T20:01:05.972889Z",
     "iopub.status.idle": "2025-07-16T20:01:06.405064Z",
     "shell.execute_reply": "2025-07-16T20:01:06.404225Z",
     "shell.execute_reply.started": "2025-07-16T20:01:05.973273Z"
    }
   },
   "outputs": [
    {
     "name": "stdout",
     "output_type": "stream",
     "text": [
      "pip 25.1.1 from /opt/conda/lib/python3.12/site-packages/pip (python 3.12)\n",
      "Note: you may need to restart the kernel to use updated packages.\n"
     ]
    }
   ],
   "source": [
    "pip --version"
   ]
  },
  {
   "cell_type": "code",
   "execution_count": 143,
   "id": "bb6c4447-d4b4-4ee2-835f-31493ddd5373",
   "metadata": {
    "execution": {
     "iopub.execute_input": "2025-07-16T23:57:28.947613Z",
     "iopub.status.busy": "2025-07-16T23:57:28.947145Z",
     "iopub.status.idle": "2025-07-16T23:57:28.950658Z",
     "shell.execute_reply": "2025-07-16T23:57:28.950130Z",
     "shell.execute_reply.started": "2025-07-16T23:57:28.947572Z"
    }
   },
   "outputs": [],
   "source": [
    "from sagemaker.huggingface import HuggingFace,HuggingFaceModel"
   ]
  },
  {
   "cell_type": "code",
   "execution_count": 150,
   "id": "a4616faa-d6e4-4f61-89a4-dd7880953afc",
   "metadata": {
    "execution": {
     "iopub.execute_input": "2025-07-17T00:13:14.448939Z",
     "iopub.status.busy": "2025-07-17T00:13:14.448281Z",
     "iopub.status.idle": "2025-07-17T00:13:14.487845Z",
     "shell.execute_reply": "2025-07-17T00:13:14.487262Z",
     "shell.execute_reply.started": "2025-07-17T00:13:14.448900Z"
    }
   },
   "outputs": [],
   "source": [
    "\n",
    "# ml.g4dn.xlarge,ml.p3.2xlarge\n",
    "hf_estimator=HuggingFace(\n",
    "    entry_point='train.py',#have information about model arch, training job, loss function\n",
    "    source_dir='./',\n",
    "    role=aws_role,\n",
    "    instance_count=1,\n",
    "    instance_type='ml.g4dn.xlarge',\n",
    "    transformers_version='4.49.0',\n",
    "    pytorch_version='2.5.1',\n",
    "    output_path=f's3://{sess.default_bucket()}/text_classify_model',\n",
    "    py_version='py311',\n",
    "    hyperparameters={'epochs':3,\n",
    "                     'train_batch_size':4,\n",
    "                     'valid_batch_size':2,\n",
    "                     'learning_rate':1e-05\n",
    "                    },\n",
    "    enable_sagemaker_metrics=True\n",
    ")"
   ]
  },
  {
   "cell_type": "code",
   "execution_count": 151,
   "id": "ea4d8d6c-2459-40de-9d60-d0ac17dd76a5",
   "metadata": {
    "execution": {
     "iopub.execute_input": "2025-07-17T00:13:30.557769Z",
     "iopub.status.busy": "2025-07-17T00:13:30.557139Z",
     "iopub.status.idle": "2025-07-17T00:25:12.675364Z",
     "shell.execute_reply": "2025-07-17T00:25:12.674732Z",
     "shell.execute_reply.started": "2025-07-17T00:13:30.557732Z"
    }
   },
   "outputs": [
    {
     "name": "stderr",
     "output_type": "stream",
     "text": [
      "INFO:sagemaker.telemetry.telemetry_logging:SageMaker Python SDK will collect telemetry to help us better understand our user's needs, diagnose issues, and deliver additional features.\n",
      "To opt out of telemetry, please disable via TelemetryOptOut parameter in SDK defaults config. For more information, refer to https://sagemaker.readthedocs.io/en/stable/overview.html#configuring-and-using-defaults-with-the-sagemaker-python-sdk.\n",
      "INFO:sagemaker.image_uris:image_uri is not presented, retrieving image_uri based on instance_type, framework etc.\n",
      "INFO:sagemaker.image_uris:image_uri is not presented, retrieving image_uri based on instance_type, framework etc.\n",
      "INFO:sagemaker:Creating training-job with name: huggingface-pytorch-training-2025-07-17-00-13-30-592\n"
     ]
    },
    {
     "name": "stdout",
     "output_type": "stream",
     "text": [
      "2025-07-17 00:15:51 Starting - Starting the training job...\n",
      "2025-07-17 00:16:05 Starting - Preparing the instances for training...\n",
      "2025-07-17 00:16:30 Downloading - Downloading input data...\n",
      "2025-07-17 00:17:01 Downloading - Downloading the training image...........................\n",
      "2025-07-17 00:21:33 Training - Training image download completed. Training in progress.\u001b[34mbash: cannot set terminal process group (-1): Inappropriate ioctl for device\u001b[0m\n",
      "\u001b[34mbash: no job control in this shell\u001b[0m\n",
      "\u001b[34mCUDA compat package should be installed for NVIDIA driver smaller than 550.144.03\u001b[0m\n",
      "\u001b[34mCurrent installed NVIDIA driver version is 550.163.01\u001b[0m\n",
      "\u001b[34mSkipping CUDA compat setup as newer NVIDIA driver is installed\u001b[0m\n",
      "\u001b[34m2025-07-17 00:21:44,348 sagemaker-training-toolkit INFO     Imported framework sagemaker_pytorch_container.training\u001b[0m\n",
      "\u001b[34m2025-07-17 00:21:44,368 sagemaker-training-toolkit INFO     No Neurons detected (normal if no neurons installed)\u001b[0m\n",
      "\u001b[34m2025-07-17 00:21:44,377 sagemaker_pytorch_container.training INFO     Block until all host DNS lookups succeed.\u001b[0m\n",
      "\u001b[34m2025-07-17 00:21:44,380 sagemaker_pytorch_container.training INFO     Invoking user training script.\u001b[0m\n",
      "\u001b[34m2025-07-17 00:21:57,545 sagemaker-training-toolkit INFO     No Neurons detected (normal if no neurons installed)\u001b[0m\n",
      "\u001b[34m2025-07-17 00:21:57,575 sagemaker-training-toolkit INFO     No Neurons detected (normal if no neurons installed)\u001b[0m\n",
      "\u001b[34m2025-07-17 00:21:57,605 sagemaker-training-toolkit INFO     No Neurons detected (normal if no neurons installed)\u001b[0m\n",
      "\u001b[34m2025-07-17 00:21:57,615 sagemaker-training-toolkit INFO     Invoking user script\u001b[0m\n",
      "\u001b[34mTraining Env:\u001b[0m\n",
      "\u001b[34m{\n",
      "    \"additional_framework_parameters\": {},\n",
      "    \"channel_input_dirs\": {\n",
      "        \"test\": \"/opt/ml/input/data/test\",\n",
      "        \"train\": \"/opt/ml/input/data/train\"\n",
      "    },\n",
      "    \"current_host\": \"algo-1\",\n",
      "    \"current_instance_group\": \"homogeneousCluster\",\n",
      "    \"current_instance_group_hosts\": [\n",
      "        \"algo-1\"\n",
      "    ],\n",
      "    \"current_instance_type\": \"ml.g4dn.xlarge\",\n",
      "    \"distribution_hosts\": [],\n",
      "    \"distribution_instance_groups\": [],\n",
      "    \"framework_module\": \"sagemaker_pytorch_container.training:main\",\n",
      "    \"hosts\": [\n",
      "        \"algo-1\"\n",
      "    ],\n",
      "    \"hyperparameters\": {\n",
      "        \"epochs\": 3,\n",
      "        \"learning_rate\": 1e-05,\n",
      "        \"train_batch_size\": 4,\n",
      "        \"valid_batch_size\": 2\n",
      "    },\n",
      "    \"input_config_dir\": \"/opt/ml/input/config\",\n",
      "    \"input_data_config\": {\n",
      "        \"test\": {\n",
      "            \"TrainingInputMode\": \"File\",\n",
      "            \"S3DistributionType\": \"FullyReplicated\",\n",
      "            \"RecordWrapperType\": \"None\"\n",
      "        },\n",
      "        \"train\": {\n",
      "            \"TrainingInputMode\": \"File\",\n",
      "            \"S3DistributionType\": \"FullyReplicated\",\n",
      "            \"RecordWrapperType\": \"None\"\n",
      "        }\n",
      "    },\n",
      "    \"input_dir\": \"/opt/ml/input\",\n",
      "    \"instance_groups\": [\n",
      "        \"homogeneousCluster\"\n",
      "    ],\n",
      "    \"instance_groups_dict\": {\n",
      "        \"homogeneousCluster\": {\n",
      "            \"instance_group_name\": \"homogeneousCluster\",\n",
      "            \"instance_type\": \"ml.g4dn.xlarge\",\n",
      "            \"hosts\": [\n",
      "                \"algo-1\"\n",
      "            ]\n",
      "        }\n",
      "    },\n",
      "    \"is_hetero\": false,\n",
      "    \"is_master\": true,\n",
      "    \"is_modelparallel_enabled\": null,\n",
      "    \"is_smddpmprun_installed\": false,\n",
      "    \"is_smddprun_installed\": true,\n",
      "    \"job_name\": \"huggingface-pytorch-training-2025-07-17-00-13-30-592\",\n",
      "    \"log_level\": 20,\n",
      "    \"master_hostname\": \"algo-1\",\n",
      "    \"model_dir\": \"/opt/ml/model\",\n",
      "    \"module_dir\": \"s3://sagemaker-us-east-2-494725113354/huggingface-pytorch-training-2025-07-17-00-13-30-592/source/sourcedir.tar.gz\",\n",
      "    \"module_name\": \"train\",\n",
      "    \"network_interface_name\": \"eth0\",\n",
      "    \"num_cpus\": 4,\n",
      "    \"num_gpus\": 1,\n",
      "    \"num_neurons\": 0,\n",
      "    \"output_data_dir\": \"/opt/ml/output/data\",\n",
      "    \"output_dir\": \"/opt/ml/output\",\n",
      "    \"output_intermediate_dir\": \"/opt/ml/output/intermediate\",\n",
      "    \"resource_config\": {\n",
      "        \"current_host\": \"algo-1\",\n",
      "        \"current_instance_type\": \"ml.g4dn.xlarge\",\n",
      "        \"current_group_name\": \"homogeneousCluster\",\n",
      "        \"hosts\": [\n",
      "            \"algo-1\"\n",
      "        ],\n",
      "        \"instance_groups\": [\n",
      "            {\n",
      "                \"instance_group_name\": \"homogeneousCluster\",\n",
      "                \"instance_type\": \"ml.g4dn.xlarge\",\n",
      "                \"hosts\": [\n",
      "                    \"algo-1\"\n",
      "                ]\n",
      "            }\n",
      "        ],\n",
      "        \"network_interface_name\": \"eth0\",\n",
      "        \"topology\": null\n",
      "    },\n",
      "    \"user_entry_point\": \"train.py\"\u001b[0m\n",
      "\u001b[34m}\u001b[0m\n",
      "\u001b[34mEnvironment variables:\u001b[0m\n",
      "\u001b[34mSM_HOSTS=[\"algo-1\"]\u001b[0m\n",
      "\u001b[34mSM_NETWORK_INTERFACE_NAME=eth0\u001b[0m\n",
      "\u001b[34mSM_HPS={\"epochs\":3,\"learning_rate\":1e-05,\"train_batch_size\":4,\"valid_batch_size\":2}\u001b[0m\n",
      "\u001b[34mSM_USER_ENTRY_POINT=train.py\u001b[0m\n",
      "\u001b[34mSM_FRAMEWORK_PARAMS={}\u001b[0m\n",
      "\u001b[34mSM_RESOURCE_CONFIG={\"current_group_name\":\"homogeneousCluster\",\"current_host\":\"algo-1\",\"current_instance_type\":\"ml.g4dn.xlarge\",\"hosts\":[\"algo-1\"],\"instance_groups\":[{\"hosts\":[\"algo-1\"],\"instance_group_name\":\"homogeneousCluster\",\"instance_type\":\"ml.g4dn.xlarge\"}],\"network_interface_name\":\"eth0\",\"topology\":null}\u001b[0m\n",
      "\u001b[34mSM_INPUT_DATA_CONFIG={\"test\":{\"RecordWrapperType\":\"None\",\"S3DistributionType\":\"FullyReplicated\",\"TrainingInputMode\":\"File\"},\"train\":{\"RecordWrapperType\":\"None\",\"S3DistributionType\":\"FullyReplicated\",\"TrainingInputMode\":\"File\"}}\u001b[0m\n",
      "\u001b[34mSM_OUTPUT_DATA_DIR=/opt/ml/output/data\u001b[0m\n",
      "\u001b[34mSM_CHANNELS=[\"test\",\"train\"]\u001b[0m\n",
      "\u001b[34mSM_CURRENT_HOST=algo-1\u001b[0m\n",
      "\u001b[34mSM_CURRENT_INSTANCE_TYPE=ml.g4dn.xlarge\u001b[0m\n",
      "\u001b[34mSM_CURRENT_INSTANCE_GROUP=homogeneousCluster\u001b[0m\n",
      "\u001b[34mSM_CURRENT_INSTANCE_GROUP_HOSTS=[\"algo-1\"]\u001b[0m\n",
      "\u001b[34mSM_INSTANCE_GROUPS=[\"homogeneousCluster\"]\u001b[0m\n",
      "\u001b[34mSM_INSTANCE_GROUPS_DICT={\"homogeneousCluster\":{\"hosts\":[\"algo-1\"],\"instance_group_name\":\"homogeneousCluster\",\"instance_type\":\"ml.g4dn.xlarge\"}}\u001b[0m\n",
      "\u001b[34mSM_DISTRIBUTION_INSTANCE_GROUPS=[]\u001b[0m\n",
      "\u001b[34mSM_IS_HETERO=false\u001b[0m\n",
      "\u001b[34mSM_MODULE_NAME=train\u001b[0m\n",
      "\u001b[34mSM_LOG_LEVEL=20\u001b[0m\n",
      "\u001b[34mSM_FRAMEWORK_MODULE=sagemaker_pytorch_container.training:main\u001b[0m\n",
      "\u001b[34mSM_INPUT_DIR=/opt/ml/input\u001b[0m\n",
      "\u001b[34mSM_INPUT_CONFIG_DIR=/opt/ml/input/config\u001b[0m\n",
      "\u001b[34mSM_OUTPUT_DIR=/opt/ml/output\u001b[0m\n",
      "\u001b[34mSM_NUM_CPUS=4\u001b[0m\n",
      "\u001b[34mSM_NUM_GPUS=1\u001b[0m\n",
      "\u001b[34mSM_NUM_NEURONS=0\u001b[0m\n",
      "\u001b[34mSM_MODEL_DIR=/opt/ml/model\u001b[0m\n",
      "\u001b[34mSM_MODULE_DIR=s3://sagemaker-us-east-2-494725113354/huggingface-pytorch-training-2025-07-17-00-13-30-592/source/sourcedir.tar.gz\u001b[0m\n",
      "\u001b[34mSM_TRAINING_ENV={\"additional_framework_parameters\":{},\"channel_input_dirs\":{\"test\":\"/opt/ml/input/data/test\",\"train\":\"/opt/ml/input/data/train\"},\"current_host\":\"algo-1\",\"current_instance_group\":\"homogeneousCluster\",\"current_instance_group_hosts\":[\"algo-1\"],\"current_instance_type\":\"ml.g4dn.xlarge\",\"distribution_hosts\":[],\"distribution_instance_groups\":[],\"framework_module\":\"sagemaker_pytorch_container.training:main\",\"hosts\":[\"algo-1\"],\"hyperparameters\":{\"epochs\":3,\"learning_rate\":1e-05,\"train_batch_size\":4,\"valid_batch_size\":2},\"input_config_dir\":\"/opt/ml/input/config\",\"input_data_config\":{\"test\":{\"RecordWrapperType\":\"None\",\"S3DistributionType\":\"FullyReplicated\",\"TrainingInputMode\":\"File\"},\"train\":{\"RecordWrapperType\":\"None\",\"S3DistributionType\":\"FullyReplicated\",\"TrainingInputMode\":\"File\"}},\"input_dir\":\"/opt/ml/input\",\"instance_groups\":[\"homogeneousCluster\"],\"instance_groups_dict\":{\"homogeneousCluster\":{\"hosts\":[\"algo-1\"],\"instance_group_name\":\"homogeneousCluster\",\"instance_type\":\"ml.g4dn.xlarge\"}},\"is_hetero\":false,\"is_master\":true,\"is_modelparallel_enabled\":null,\"is_smddpmprun_installed\":false,\"is_smddprun_installed\":true,\"job_name\":\"huggingface-pytorch-training-2025-07-17-00-13-30-592\",\"log_level\":20,\"master_hostname\":\"algo-1\",\"model_dir\":\"/opt/ml/model\",\"module_dir\":\"s3://sagemaker-us-east-2-494725113354/huggingface-pytorch-training-2025-07-17-00-13-30-592/source/sourcedir.tar.gz\",\"module_name\":\"train\",\"network_interface_name\":\"eth0\",\"num_cpus\":4,\"num_gpus\":1,\"num_neurons\":0,\"output_data_dir\":\"/opt/ml/output/data\",\"output_dir\":\"/opt/ml/output\",\"output_intermediate_dir\":\"/opt/ml/output/intermediate\",\"resource_config\":{\"current_group_name\":\"homogeneousCluster\",\"current_host\":\"algo-1\",\"current_instance_type\":\"ml.g4dn.xlarge\",\"hosts\":[\"algo-1\"],\"instance_groups\":[{\"hosts\":[\"algo-1\"],\"instance_group_name\":\"homogeneousCluster\",\"instance_type\":\"ml.g4dn.xlarge\"}],\"network_interface_name\":\"eth0\",\"topology\":null},\"user_entry_point\":\"train.py\"}\u001b[0m\n",
      "\u001b[34mSM_USER_ARGS=[\"--epochs\",\"3\",\"--learning_rate\",\"1e-05\",\"--train_batch_size\",\"4\",\"--valid_batch_size\",\"2\"]\u001b[0m\n",
      "\u001b[34mSM_OUTPUT_INTERMEDIATE_DIR=/opt/ml/output/intermediate\u001b[0m\n",
      "\u001b[34mSM_CHANNEL_TEST=/opt/ml/input/data/test\u001b[0m\n",
      "\u001b[34mSM_CHANNEL_TRAIN=/opt/ml/input/data/train\u001b[0m\n",
      "\u001b[34mSM_HP_EPOCHS=3\u001b[0m\n",
      "\u001b[34mSM_HP_LEARNING_RATE=1e-05\u001b[0m\n",
      "\u001b[34mSM_HP_TRAIN_BATCH_SIZE=4\u001b[0m\n",
      "\u001b[34mSM_HP_VALID_BATCH_SIZE=2\u001b[0m\n",
      "\u001b[34mPYTHONPATH=/opt/ml/code:/opt/conda/bin:/opt/conda/lib/python311.zip:/opt/conda/lib/python3.11:/opt/conda/lib/python3.11/lib-dynload:/opt/conda/lib/python3.11/site-packages\u001b[0m\n",
      "\u001b[34mInvoking script with the following command:\u001b[0m\n",
      "\u001b[34m/opt/conda/bin/python3.11 train.py --epochs 3 --learning_rate 1e-05 --train_batch_size 4 --valid_batch_size 2\u001b[0m\n",
      "\u001b[34m2025-07-17 00:21:57,615 sagemaker-training-toolkit INFO     Exceptions not imported for SageMaker Debugger as it is not installed.\u001b[0m\n",
      "\u001b[34m2025-07-17 00:21:57,615 sagemaker-training-toolkit INFO     Exceptions not imported for SageMaker TF as Tensorflow is not installed.\u001b[0m\n",
      "\u001b[34m2025-07-17 00:22:03,464 - __main__ - INFO - Loading preprocessed data from: /opt/ml/input/data/train/train.pth\u001b[0m\n",
      "\u001b[34m2025-07-17 00:22:03,464 - __main__ - INFO - Loading preprocessed data from: /opt/ml/input/data/test/test.pth\u001b[0m\n",
      "\u001b[34m/opt/ml/code/train.py:34: FutureWarning: You are using `torch.load` with `weights_only=False` (the current default value), which uses the default pickle module implicitly. It is possible to construct malicious pickle data which will execute arbitrary code during unpickling (See https://github.com/pytorch/pytorch/blob/main/SECURITY.md#untrusted-models for more details). In a future release, the default value for `weights_only` will be flipped to `True`. This limits the functions that could be executed during unpickling. Arbitrary objects will no longer be allowed to be loaded via this mode unless they are explicitly allowlisted by the user via `torch.serialization.add_safe_globals`. We recommend you start setting `weights_only=True` for any use case where you don't have full control of the loaded file. Please open an issue on GitHub for any issues related to this experimental feature.\n",
      "  train_dataset = torch.load(train_input_data_path)\u001b[0m\n",
      "\u001b[34m/opt/ml/code/train.py:35: FutureWarning: You are using `torch.load` with `weights_only=False` (the current default value), which uses the default pickle module implicitly. It is possible to construct malicious pickle data which will execute arbitrary code during unpickling (See https://github.com/pytorch/pytorch/blob/main/SECURITY.md#untrusted-models for more details). In a future release, the default value for `weights_only` will be flipped to `True`. This limits the functions that could be executed during unpickling. Arbitrary objects will no longer be allowed to be loaded via this mode unless they are explicitly allowlisted by the user via `torch.serialization.add_safe_globals`. We recommend you start setting `weights_only=True` for any use case where you don't have full control of the loaded file. Please open an issue on GitHub for any issues related to this experimental feature.\n",
      "  val_dataset = torch.load(test_input_data_path)\u001b[0m\n",
      "\u001b[34m2025-07-17 00:22:03,476 - __main__ - INFO - Training dataset size: 924\u001b[0m\n",
      "\u001b[34m2025-07-17 00:22:03,476 - __main__ - INFO - Validation dataset size: 397\u001b[0m\n",
      "\u001b[34m2025-07-17 00:22:03,476 - __main__ - INFO - Loading model 'distilbert-base-uncased' for text classification with 4 labels.\u001b[0m\n",
      "\u001b[34mSome weights of DistilBertForSequenceClassification were not initialized from the model checkpoint at distilbert-base-uncased and are newly initialized: ['classifier.bias', 'classifier.weight', 'pre_classifier.bias', 'pre_classifier.weight']\u001b[0m\n",
      "\u001b[34mYou should probably TRAIN this model on a down-stream task to be able to use it for predictions and inference.\u001b[0m\n",
      "\u001b[34mSome weights of DistilBertForSequenceClassification were not initialized from the model checkpoint at distilbert-base-uncased and are newly initialized: ['classifier.bias', 'classifier.weight', 'pre_classifier.bias', 'pre_classifier.weight']\u001b[0m\n",
      "\u001b[34mYou should probably TRAIN this model on a down-stream task to be able to use it for predictions and inference.\u001b[0m\n",
      "\u001b[34m2025-07-17 00:22:04,822 - __main__ - INFO - Using device: cuda\u001b[0m\n",
      "\u001b[34m2025-07-17 00:22:05,301 - __main__ - INFO - ***** Starting training *****\u001b[0m\n",
      "\u001b[34m2025-07-17 00:22:49,021 - __main__ - INFO - --- Epoch 1/3 ---\u001b[0m\n",
      "\u001b[34m2025-07-17 00:22:49,021 - __main__ - INFO -   Average training loss: 0.4937\u001b[0m\n",
      "\u001b[34m2025-07-17 00:22:52,794 - __main__ - INFO -   Validation Loss: 0.3377\u001b[0m\n",
      "\u001b[34m2025-07-17 00:22:52,794 - __main__ - INFO -   Validation Accuracy: 0.8860\u001b[0m\n",
      "\u001b[34m2025-07-17 00:23:36,672 - __main__ - INFO - --- Epoch 2/3 ---\u001b[0m\n",
      "\u001b[34m2025-07-17 00:23:36,672 - __main__ - INFO -   Average training loss: 0.2619\u001b[0m\n",
      "\u001b[34m2025-07-17 00:23:40,494 - __main__ - INFO -   Validation Loss: 0.3058\u001b[0m\n",
      "\u001b[34m2025-07-17 00:23:40,494 - __main__ - INFO -   Validation Accuracy: 0.9024\u001b[0m\n",
      "\u001b[34m2025-07-17 00:24:24,672 - __main__ - INFO - --- Epoch 3/3 ---\u001b[0m\n",
      "\u001b[34m2025-07-17 00:24:24,672 - __main__ - INFO -   Average training loss: 0.1995\u001b[0m\n",
      "\u001b[34m2025-07-17 00:24:28,526 - __main__ - INFO -   Validation Loss: 0.3130\u001b[0m\n",
      "\u001b[34m2025-07-17 00:24:28,526 - __main__ - INFO -   Validation Accuracy: 0.9060\u001b[0m\n",
      "\u001b[34m2025-07-17 00:24:28,526 - __main__ - INFO - Training complete. Saving the model.\u001b[0m\n",
      "\u001b[34m2025-07-17 00:24:30,530 sagemaker-training-toolkit INFO     Waiting for the process to finish and give a return code.\u001b[0m\n",
      "\u001b[34m2025-07-17 00:24:30,530 sagemaker-training-toolkit INFO     Done waiting for a return code. Received 0 from exiting process.\u001b[0m\n",
      "\u001b[34m2025-07-17 00:24:30,530 sagemaker-training-toolkit INFO     Reporting training SUCCESS\u001b[0m\n",
      "\n",
      "2025-07-17 00:24:52 Uploading - Uploading generated training model\n",
      "2025-07-17 00:24:52 Completed - Training job completed\n",
      "Training seconds: 502\n",
      "Billable seconds: 502\n"
     ]
    }
   ],
   "source": [
    "#runs the training job as stated above\n",
    "hf_estimator.fit({\n",
    "    'train': f's3://{sess.default_bucket()}/preprocessed_data/', \n",
    "    'test': f's3://{sess.default_bucket()}/preprocessed_data/'\n",
    "})"
   ]
  },
  {
   "cell_type": "code",
   "execution_count": 152,
   "id": "1b62a15f-a68d-406a-8342-a5a1e5b61287",
   "metadata": {
    "execution": {
     "iopub.execute_input": "2025-07-17T00:27:24.209743Z",
     "iopub.status.busy": "2025-07-17T00:27:24.209234Z",
     "iopub.status.idle": "2025-07-17T00:30:56.205669Z",
     "shell.execute_reply": "2025-07-17T00:30:56.205096Z",
     "shell.execute_reply.started": "2025-07-17T00:27:24.209717Z"
    }
   },
   "outputs": [
    {
     "name": "stdout",
     "output_type": "stream",
     "text": [
      "Deploying the model to a SageMaker endpoint...\n"
     ]
    },
    {
     "name": "stderr",
     "output_type": "stream",
     "text": [
      "INFO:sagemaker:Creating model with name: huggingface-pytorch-inference-2025-07-17-00-27-24-439\n",
      "INFO:sagemaker:Creating endpoint-config with name huggingface-pytorch-inference-2025-07-17-00-27-25-005\n",
      "INFO:sagemaker:Creating endpoint with name huggingface-pytorch-inference-2025-07-17-00-27-25-005\n"
     ]
    },
    {
     "name": "stdout",
     "output_type": "stream",
     "text": [
      "------!"
     ]
    }
   ],
   "source": [
    "model_s3_path = f\"s3://{sess.default_bucket()}/text_classify_model/huggingface-pytorch-training-2025-07-17-00-13-30-592/output/model.tar.gz\"\n",
    "\n",
    "# --- 2. Create a HuggingFaceModel object ---\n",
    "# This object points to your existing model artifacts instead of a training script.\n",
    "# Ensure the framework versions match what you used for training.\n",
    "huggingface_model = HuggingFaceModel(\n",
    "    model_data=model_s3_path,      # Path to your trained model\n",
    "    role=aws_role,                     # Your SageMaker execution role\n",
    "    transformers_version=\"4.49.0\", # Use a supported version you trained with\n",
    "    pytorch_version=\"2.6.0\",       # Use the PyTorch version you trained with\n",
    "    py_version=\"py312\"             # Use the Python version you trained with\n",
    ")\n",
    "\n",
    "# --- 3. Deploy the model to an endpoint ---\n",
    "# This will create a real-time inference endpoint.\n",
    "print(\"Deploying the model to a SageMaker endpoint...\")\n",
    "predictor = huggingface_model.deploy(\n",
    "    initial_instance_count=1,\n",
    "    instance_type=\"ml.m5.xlarge\"  # You can use a CPU instance for inference\n",
    ")"
   ]
  },
  {
   "cell_type": "code",
   "execution_count": 153,
   "id": "db862dd6-ef04-4fa4-836b-3398fed609b3",
   "metadata": {
    "execution": {
     "iopub.execute_input": "2025-07-17T00:30:56.207183Z",
     "iopub.status.busy": "2025-07-17T00:30:56.206597Z",
     "iopub.status.idle": "2025-07-17T00:30:56.210337Z",
     "shell.execute_reply": "2025-07-17T00:30:56.209822Z",
     "shell.execute_reply.started": "2025-07-17T00:30:56.207161Z"
    }
   },
   "outputs": [
    {
     "name": "stdout",
     "output_type": "stream",
     "text": [
      "Endpoint 'huggingface-pytorch-inference-2025-07-17-00-27-25-005' created successfully.\n"
     ]
    }
   ],
   "source": [
    "print(f\"Endpoint '{predictor.endpoint_name}' created successfully.\")"
   ]
  },
  {
   "cell_type": "code",
   "execution_count": 154,
   "id": "afef2238-dcb4-4715-aa08-6410a430179d",
   "metadata": {
    "execution": {
     "iopub.execute_input": "2025-07-17T00:30:56.211146Z",
     "iopub.status.busy": "2025-07-17T00:30:56.210944Z",
     "iopub.status.idle": "2025-07-17T00:30:56.418822Z",
     "shell.execute_reply": "2025-07-17T00:30:56.418245Z",
     "shell.execute_reply.started": "2025-07-17T00:30:56.211127Z"
    }
   },
   "outputs": [
    {
     "data": {
      "text/plain": [
       "[{'label': 'LABEL_1', 'score': 0.9491696953773499}]"
      ]
     },
     "execution_count": 154,
     "metadata": {},
     "output_type": "execute_result"
    }
   ],
   "source": [
    "predictor.predict({\n",
    "\t\"inputs\": \"I am going to get married soon, its going to be awesome\",\n",
    "})"
   ]
  },
  {
   "cell_type": "code",
   "execution_count": null,
   "id": "3c7f4cb9-997c-4028-ae97-ba5aa76865ff",
   "metadata": {},
   "outputs": [],
   "source": []
  }
 ],
 "metadata": {
  "kernelspec": {
   "display_name": "Python 3 (ipykernel)",
   "language": "python",
   "name": "python3"
  },
  "language_info": {
   "codemirror_mode": {
    "name": "ipython",
    "version": 3
   },
   "file_extension": ".py",
   "mimetype": "text/x-python",
   "name": "python",
   "nbconvert_exporter": "python",
   "pygments_lexer": "ipython3",
   "version": "3.12.9"
  }
 },
 "nbformat": 4,
 "nbformat_minor": 5
}
